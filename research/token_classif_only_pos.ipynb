{
 "cells": [
  {
   "cell_type": "code",
   "execution_count": 1,
   "metadata": {},
   "outputs": [
    {
     "data": {
      "text/html": [
       "<div>\n",
       "<style scoped>\n",
       "    .dataframe tbody tr th:only-of-type {\n",
       "        vertical-align: middle;\n",
       "    }\n",
       "\n",
       "    .dataframe tbody tr th {\n",
       "        vertical-align: top;\n",
       "    }\n",
       "\n",
       "    .dataframe thead th {\n",
       "        text-align: right;\n",
       "    }\n",
       "</style>\n",
       "<table border=\"1\" class=\"dataframe\">\n",
       "  <thead>\n",
       "    <tr style=\"text-align: right;\">\n",
       "      <th></th>\n",
       "      <th>processed_text</th>\n",
       "      <th>target_labels_positions</th>\n",
       "      <th>label</th>\n",
       "    </tr>\n",
       "  </thead>\n",
       "  <tbody>\n",
       "    <tr>\n",
       "      <th>0</th>\n",
       "      <td>аа союзная тридцать пять дробь один лариса сое...</td>\n",
       "      <td>{}</td>\n",
       "      <td>0</td>\n",
       "    </tr>\n",
       "    <tr>\n",
       "      <th>1</th>\n",
       "      <td>аа приложение мне показывает к оплате у меня п...</td>\n",
       "      <td>{}</td>\n",
       "      <td>0</td>\n",
       "    </tr>\n",
       "    <tr>\n",
       "      <th>2</th>\n",
       "      <td>да лисное по призрак лишнее ну почему иду пять...</td>\n",
       "      <td>{'I-value': [140], 'B-value': [139], 'B-discou...</td>\n",
       "      <td>1</td>\n",
       "    </tr>\n",
       "    <tr>\n",
       "      <th>3</th>\n",
       "      <td>а что добрый день NAME у меня пришел какой то ...</td>\n",
       "      <td>{'B-discount': [12]}</td>\n",
       "      <td>1</td>\n",
       "    </tr>\n",
       "    <tr>\n",
       "      <th>4</th>\n",
       "      <td>у меня западный с утра да да еще да да самый в...</td>\n",
       "      <td>{}</td>\n",
       "      <td>0</td>\n",
       "    </tr>\n",
       "    <tr>\n",
       "      <th>...</th>\n",
       "      <td>...</td>\n",
       "      <td>...</td>\n",
       "      <td>...</td>\n",
       "    </tr>\n",
       "    <tr>\n",
       "      <th>3394</th>\n",
       "      <td>а доброе утро меня заинтересовала ваш проект н...</td>\n",
       "      <td>{'I-value': [224, 225], 'B-value': [223], 'B-d...</td>\n",
       "      <td>1</td>\n",
       "    </tr>\n",
       "    <tr>\n",
       "      <th>3395</th>\n",
       "      <td>здравствуйте меня зовут иван я бы хотел сегодн...</td>\n",
       "      <td>{}</td>\n",
       "      <td>0</td>\n",
       "    </tr>\n",
       "    <tr>\n",
       "      <th>3396</th>\n",
       "      <td>целенаправлен на голосовой почтовый ящик вы мо...</td>\n",
       "      <td>{}</td>\n",
       "      <td>0</td>\n",
       "    </tr>\n",
       "    <tr>\n",
       "      <th>3397</th>\n",
       "      <td>NAME зовут NAME я хотела уточнить ээ своего ме...</td>\n",
       "      <td>{}</td>\n",
       "      <td>0</td>\n",
       "    </tr>\n",
       "    <tr>\n",
       "      <th>3398</th>\n",
       "      <td>далее здравствуйте NAME зовут так хотел бы узн...</td>\n",
       "      <td>{}</td>\n",
       "      <td>0</td>\n",
       "    </tr>\n",
       "  </tbody>\n",
       "</table>\n",
       "<p>3399 rows × 3 columns</p>\n",
       "</div>"
      ],
      "text/plain": [
       "                                         processed_text  \\\n",
       "0     аа союзная тридцать пять дробь один лариса сое...   \n",
       "1     аа приложение мне показывает к оплате у меня п...   \n",
       "2     да лисное по призрак лишнее ну почему иду пять...   \n",
       "3     а что добрый день NAME у меня пришел какой то ...   \n",
       "4     у меня западный с утра да да еще да да самый в...   \n",
       "...                                                 ...   \n",
       "3394  а доброе утро меня заинтересовала ваш проект н...   \n",
       "3395  здравствуйте меня зовут иван я бы хотел сегодн...   \n",
       "3396  целенаправлен на голосовой почтовый ящик вы мо...   \n",
       "3397  NAME зовут NAME я хотела уточнить ээ своего ме...   \n",
       "3398  далее здравствуйте NAME зовут так хотел бы узн...   \n",
       "\n",
       "                                target_labels_positions  label  \n",
       "0                                                    {}      0  \n",
       "1                                                    {}      0  \n",
       "2     {'I-value': [140], 'B-value': [139], 'B-discou...      1  \n",
       "3                                  {'B-discount': [12]}      1  \n",
       "4                                                    {}      0  \n",
       "...                                                 ...    ...  \n",
       "3394  {'I-value': [224, 225], 'B-value': [223], 'B-d...      1  \n",
       "3395                                                 {}      0  \n",
       "3396                                                 {}      0  \n",
       "3397                                                 {}      0  \n",
       "3398                                                 {}      0  \n",
       "\n",
       "[3399 rows x 3 columns]"
      ]
     },
     "execution_count": 1,
     "metadata": {},
     "output_type": "execute_result"
    }
   ],
   "source": [
    "import pandas as pd\n",
    "import numpy as np\n",
    "import warnings\n",
    "from datasets import Dataset, DatasetDict\n",
    "from transformers import AutoTokenizer\n",
    "import evaluate\n",
    "import wandb\n",
    "import ast\n",
    "warnings.filterwarnings(\"ignore\")\n",
    "\n",
    "\n",
    "train_data = pd.read_csv('train_data.csv')\n",
    "train_data[\"label\"] = train_data[\"target_labels_positions\"].apply(\n",
    "    lambda x: 1 if len(ast.literal_eval(x)) > 0 else 0\n",
    ")\n",
    "train_data"
   ]
  },
  {
   "cell_type": "code",
   "execution_count": 2,
   "metadata": {},
   "outputs": [
    {
     "data": {
      "text/plain": [
       "DatasetDict({\n",
       "    train: Dataset({\n",
       "        features: ['processed_text', 'target_labels_positions', 'label', '__index_level_0__'],\n",
       "        num_rows: 452\n",
       "    })\n",
       "    test: Dataset({\n",
       "        features: ['processed_text', 'target_labels_positions', 'label', '__index_level_0__'],\n",
       "        num_rows: 51\n",
       "    })\n",
       "})"
      ]
     },
     "execution_count": 2,
     "metadata": {},
     "output_type": "execute_result"
    }
   ],
   "source": [
    "dataset = Dataset.from_pandas(train_data[train_data['label'] == 1])\n",
    "dataset = dataset.shuffle()\n",
    "dataset_train_test = dataset.train_test_split(test_size=0.1)\n",
    "\n",
    "final_ds = DatasetDict(\n",
    "    {\n",
    "        \"train\": dataset_train_test[\"train\"],\n",
    "        \"test\": dataset_train_test[\"test\"],\n",
    "    }\n",
    ")\n",
    "final_ds"
   ]
  },
  {
   "cell_type": "code",
   "execution_count": 3,
   "metadata": {},
   "outputs": [
    {
     "data": {
      "text/plain": [
       "{0: 'O', 1: 'B-discount', 2: 'B-value', 3: 'I-value'}"
      ]
     },
     "execution_count": 3,
     "metadata": {},
     "output_type": "execute_result"
    }
   ],
   "source": [
    "entity_groups = [\"B-discount\", \"B-value\", \"I-value\"]\n",
    "entity_groups.insert(0, \"O\")\n",
    "id2label = {i: label for i, label in enumerate(entity_groups)}\n",
    "label2id = {v: k for k, v in id2label.items()}\n",
    "num_labels = len(id2label)\n",
    "label_list = list(label2id.keys())\n",
    "id2label"
   ]
  },
  {
   "cell_type": "code",
   "execution_count": 4,
   "metadata": {},
   "outputs": [],
   "source": [
    "from nltk.tokenize import word_tokenize\n",
    "def preprocess_text(example):\n",
    "\n",
    "    words = []\n",
    "    tags = []\n",
    "    new_dict = {}\n",
    "    labels_dict = ast.literal_eval(example['target_labels_positions'])\n",
    "    tags_index_list = [i[0] for i in labels_dict.values()]\n",
    "    for key, value in labels_dict.items():\n",
    "        for i in value:\n",
    "            new_dict[i] = key\n",
    "    for index, i in enumerate(word_tokenize(example['processed_text'])):\n",
    "        if index in tags_index_list:\n",
    "            if new_dict[index] == 'B-discount':\n",
    "                tags.append(1)    \n",
    "                words.append(i)\n",
    "            elif new_dict[index] == \"B-value\":\n",
    "                tags.append(2)\n",
    "                words.append(i)\n",
    "            else:\n",
    "                tags.append(3)\n",
    "                words.append(i)\n",
    "        else:\n",
    "            tags.append(0)\n",
    "            words.append(i)\n",
    "\n",
    "\n",
    "    example[\"ner_tag\"] = tags\n",
    "    example[\"tokens\"] = words\n",
    "    return example"
   ]
  },
  {
   "cell_type": "code",
   "execution_count": 5,
   "metadata": {},
   "outputs": [
    {
     "data": {
      "application/vnd.jupyter.widget-view+json": {
       "model_id": "e266e02b6d64485e8c4d39d1117fe2b7",
       "version_major": 2,
       "version_minor": 0
      },
      "text/plain": [
       "Map:   0%|          | 0/452 [00:00<?, ? examples/s]"
      ]
     },
     "metadata": {},
     "output_type": "display_data"
    },
    {
     "data": {
      "application/vnd.jupyter.widget-view+json": {
       "model_id": "347eed4e14164736beeb1f033dd38e47",
       "version_major": 2,
       "version_minor": 0
      },
      "text/plain": [
       "Map:   0%|          | 0/51 [00:00<?, ? examples/s]"
      ]
     },
     "metadata": {},
     "output_type": "display_data"
    },
    {
     "data": {
      "text/plain": [
       "DatasetDict({\n",
       "    train: Dataset({\n",
       "        features: ['label', '__index_level_0__', 'ner_tag', 'tokens'],\n",
       "        num_rows: 452\n",
       "    })\n",
       "    test: Dataset({\n",
       "        features: ['label', '__index_level_0__', 'ner_tag', 'tokens'],\n",
       "        num_rows: 51\n",
       "    })\n",
       "})"
      ]
     },
     "execution_count": 5,
     "metadata": {},
     "output_type": "execute_result"
    }
   ],
   "source": [
    "processed_dataset = final_ds.map(\n",
    "    preprocess_text, remove_columns=[\"processed_text\", \"target_labels_positions\"]\n",
    ")\n",
    "processed_dataset"
   ]
  },
  {
   "cell_type": "code",
   "execution_count": 6,
   "metadata": {},
   "outputs": [
    {
     "name": "stdout",
     "output_type": "stream",
     "text": [
      "133219\n",
      "1085\n"
     ]
    }
   ],
   "source": [
    "zero = 0\n",
    "non_zero = 0\n",
    "for i in processed_dataset[\"train\"][\"ner_tag\"]:\n",
    "    for item in i:\n",
    "        if item == 0:\n",
    "            zero += 1\n",
    "        else:\n",
    "            non_zero += 1\n",
    "print(zero)\n",
    "print(non_zero)"
   ]
  },
  {
   "cell_type": "code",
   "execution_count": 7,
   "metadata": {},
   "outputs": [],
   "source": [
    "tokenizer = AutoTokenizer.from_pretrained(\"ai-forever/ruBert-base\")"
   ]
  },
  {
   "cell_type": "code",
   "execution_count": 8,
   "metadata": {},
   "outputs": [],
   "source": [
    "def tokenize_and_align_labels(examples):\n",
    "    tokenized_inputs = tokenizer(\n",
    "        examples[\"tokens\"], truncation=True, is_split_into_words=True, max_length=512\n",
    "    )\n",
    "\n",
    "    labels = []\n",
    "    for i, label in enumerate(examples[f\"ner_tag\"]):\n",
    "        word_ids = tokenized_inputs.word_ids(\n",
    "            batch_index=i\n",
    "        )  # Map tokens to their respective word.\n",
    "        previous_word_idx = None\n",
    "        label_ids = []\n",
    "        for word_idx in word_ids:  # Set the special tokens to -100.\n",
    "            if word_idx is None:\n",
    "                label_ids.append(-100)\n",
    "            elif (\n",
    "                word_idx != previous_word_idx\n",
    "            ):  # Only label the first token of a given word.\n",
    "                label_ids.append(label[word_idx])\n",
    "            else:\n",
    "                label_ids.append(-100)\n",
    "            previous_word_idx = word_idx\n",
    "        labels.append(label_ids)\n",
    "\n",
    "    tokenized_inputs[\"labels\"] = labels\n",
    "    return tokenized_inputs"
   ]
  },
  {
   "cell_type": "code",
   "execution_count": 9,
   "metadata": {},
   "outputs": [
    {
     "data": {
      "application/vnd.jupyter.widget-view+json": {
       "model_id": "ee53b3bfae2a4ad8b37805edf996fee2",
       "version_major": 2,
       "version_minor": 0
      },
      "text/plain": [
       "Map:   0%|          | 0/452 [00:00<?, ? examples/s]"
      ]
     },
     "metadata": {},
     "output_type": "display_data"
    },
    {
     "data": {
      "application/vnd.jupyter.widget-view+json": {
       "model_id": "94989305903a4bd2b647d6d74a3cb9cd",
       "version_major": 2,
       "version_minor": 0
      },
      "text/plain": [
       "Map:   0%|          | 0/51 [00:00<?, ? examples/s]"
      ]
     },
     "metadata": {},
     "output_type": "display_data"
    },
    {
     "data": {
      "text/plain": [
       "DatasetDict({\n",
       "    train: Dataset({\n",
       "        features: ['input_ids', 'token_type_ids', 'attention_mask', 'labels'],\n",
       "        num_rows: 452\n",
       "    })\n",
       "    test: Dataset({\n",
       "        features: ['input_ids', 'token_type_ids', 'attention_mask', 'labels'],\n",
       "        num_rows: 51\n",
       "    })\n",
       "})"
      ]
     },
     "execution_count": 9,
     "metadata": {},
     "output_type": "execute_result"
    }
   ],
   "source": [
    "tokenized_dataset = processed_dataset.map(\n",
    "    tokenize_and_align_labels,\n",
    "    batched=True,\n",
    "    remove_columns=[\"tokens\", \"ner_tag\", \"__index_level_0__\", 'label'],\n",
    ")\n",
    "tokenized_dataset"
   ]
  },
  {
   "cell_type": "code",
   "execution_count": 10,
   "metadata": {},
   "outputs": [],
   "source": [
    "seqeval = evaluate.load(\"seqeval\")\n",
    "\n",
    "\n",
    "def compute_metrics(p):\n",
    "    predictions, labels = p\n",
    "    predictions = np.argmax(predictions, axis=2)\n",
    "\n",
    "    true_predictions = [\n",
    "        [label_list[p] for (p, l) in zip(prediction, label) if l != -100]\n",
    "        for prediction, label in zip(predictions, labels)\n",
    "    ]\n",
    "    true_labels = [\n",
    "        [label_list[l] for (p, l) in zip(prediction, label) if l != -100]\n",
    "        for prediction, label in zip(predictions, labels)\n",
    "    ]\n",
    "\n",
    "    results = seqeval.compute(predictions=true_predictions, references=true_labels)\n",
    "    return {\n",
    "        \"precision\": results[\"overall_precision\"],\n",
    "        \"recall\": results[\"overall_recall\"],\n",
    "        \"f1\": results[\"overall_f1\"],\n",
    "        \"accuracy\": results[\"overall_accuracy\"],\n",
    "    }"
   ]
  },
  {
   "cell_type": "code",
   "execution_count": 11,
   "metadata": {},
   "outputs": [],
   "source": [
    "from transformers import DataCollatorForTokenClassification\n",
    "from transformers import AutoModelForTokenClassification, TrainingArguments, Trainer\n",
    "\n",
    "data_collator = DataCollatorForTokenClassification(tokenizer=tokenizer)"
   ]
  },
  {
   "cell_type": "code",
   "execution_count": 12,
   "metadata": {},
   "outputs": [
    {
     "name": "stderr",
     "output_type": "stream",
     "text": [
      "Some weights of BertForTokenClassification were not initialized from the model checkpoint at ai-forever/ruBert-base and are newly initialized: ['classifier.bias', 'classifier.weight']\n",
      "You should probably TRAIN this model on a down-stream task to be able to use it for predictions and inference.\n"
     ]
    },
    {
     "data": {
      "application/vnd.jupyter.widget-view+json": {
       "model_id": "a51fcf52aa1d418e9850c8a5215e26a1",
       "version_major": 2,
       "version_minor": 0
      },
      "text/plain": [
       "  0%|          | 0/456 [00:00<?, ?it/s]"
      ]
     },
     "metadata": {},
     "output_type": "display_data"
    },
    {
     "data": {
      "application/vnd.jupyter.widget-view+json": {
       "model_id": "0354ea3868854406872dd53e3519156c",
       "version_major": 2,
       "version_minor": 0
      },
      "text/plain": [
       "  0%|          | 0/7 [00:00<?, ?it/s]"
      ]
     },
     "metadata": {},
     "output_type": "display_data"
    },
    {
     "name": "stdout",
     "output_type": "stream",
     "text": [
      "{'eval_loss': 0.05928918346762657, 'eval_precision': 0.0, 'eval_recall': 0.0, 'eval_f1': 0.0, 'eval_accuracy': 0.9913008294557961, 'eval_runtime': 0.8338, 'eval_samples_per_second': 61.164, 'eval_steps_per_second': 8.395, 'epoch': 1.0}\n"
     ]
    },
    {
     "data": {
      "application/vnd.jupyter.widget-view+json": {
       "model_id": "b9d054e59e984819bc994c3a1af3a9be",
       "version_major": 2,
       "version_minor": 0
      },
      "text/plain": [
       "  0%|          | 0/7 [00:00<?, ?it/s]"
      ]
     },
     "metadata": {},
     "output_type": "display_data"
    },
    {
     "name": "stdout",
     "output_type": "stream",
     "text": [
      "{'eval_loss': 0.014969849959015846, 'eval_precision': 0.5529411764705883, 'eval_recall': 0.5108695652173914, 'eval_f1': 0.5310734463276837, 'eval_accuracy': 0.9945377301234068, 'eval_runtime': 0.8711, 'eval_samples_per_second': 58.545, 'eval_steps_per_second': 8.036, 'epoch': 2.0}\n"
     ]
    },
    {
     "data": {
      "application/vnd.jupyter.widget-view+json": {
       "model_id": "e8de9678d6204a419b8f71c6b6936dde",
       "version_major": 2,
       "version_minor": 0
      },
      "text/plain": [
       "  0%|          | 0/7 [00:00<?, ?it/s]"
      ]
     },
     "metadata": {},
     "output_type": "display_data"
    },
    {
     "name": "stdout",
     "output_type": "stream",
     "text": [
      "{'eval_loss': 0.009390761144459248, 'eval_precision': 0.6936936936936937, 'eval_recall': 0.8369565217391305, 'eval_f1': 0.7586206896551725, 'eval_accuracy': 0.9963584867489379, 'eval_runtime': 0.8506, 'eval_samples_per_second': 59.96, 'eval_steps_per_second': 8.23, 'epoch': 3.0}\n"
     ]
    },
    {
     "data": {
      "application/vnd.jupyter.widget-view+json": {
       "model_id": "e8ea2d6852f6482692c167216b6a4bc9",
       "version_major": 2,
       "version_minor": 0
      },
      "text/plain": [
       "  0%|          | 0/7 [00:00<?, ?it/s]"
      ]
     },
     "metadata": {},
     "output_type": "display_data"
    },
    {
     "name": "stdout",
     "output_type": "stream",
     "text": [
      "{'eval_loss': 0.009068856947124004, 'eval_precision': 0.6837606837606838, 'eval_recall': 0.8695652173913043, 'eval_f1': 0.7655502392344498, 'eval_accuracy': 0.9967630993323893, 'eval_runtime': 0.8856, 'eval_samples_per_second': 57.591, 'eval_steps_per_second': 7.905, 'epoch': 4.0}\n"
     ]
    },
    {
     "data": {
      "application/vnd.jupyter.widget-view+json": {
       "model_id": "0581f0480efe4688b9b7faee65288ea4",
       "version_major": 2,
       "version_minor": 0
      },
      "text/plain": [
       "  0%|          | 0/7 [00:00<?, ?it/s]"
      ]
     },
     "metadata": {},
     "output_type": "display_data"
    },
    {
     "name": "stdout",
     "output_type": "stream",
     "text": [
      "{'eval_loss': 0.0091583002358675, 'eval_precision': 0.776595744680851, 'eval_recall': 0.7934782608695652, 'eval_f1': 0.7849462365591399, 'eval_accuracy': 0.9970328410546901, 'eval_runtime': 0.909, 'eval_samples_per_second': 56.104, 'eval_steps_per_second': 7.701, 'epoch': 5.0}\n"
     ]
    },
    {
     "data": {
      "application/vnd.jupyter.widget-view+json": {
       "model_id": "6f1754431f0c4b64a218fca9fe6fd729",
       "version_major": 2,
       "version_minor": 0
      },
      "text/plain": [
       "  0%|          | 0/7 [00:00<?, ?it/s]"
      ]
     },
     "metadata": {},
     "output_type": "display_data"
    },
    {
     "name": "stdout",
     "output_type": "stream",
     "text": [
      "{'eval_loss': 0.008013573475182056, 'eval_precision': 0.8539325842696629, 'eval_recall': 0.8260869565217391, 'eval_f1': 0.8397790055248618, 'eval_accuracy': 0.9979769370827433, 'eval_runtime': 0.854, 'eval_samples_per_second': 59.719, 'eval_steps_per_second': 8.197, 'epoch': 6.0}\n"
     ]
    },
    {
     "data": {
      "application/vnd.jupyter.widget-view+json": {
       "model_id": "fa0ea2d07430404c926d89fc4ba905b8",
       "version_major": 2,
       "version_minor": 0
      },
      "text/plain": [
       "  0%|          | 0/7 [00:00<?, ?it/s]"
      ]
     },
     "metadata": {},
     "output_type": "display_data"
    },
    {
     "name": "stdout",
     "output_type": "stream",
     "text": [
      "{'eval_loss': 0.008586699143052101, 'eval_precision': 0.8191489361702128, 'eval_recall': 0.8369565217391305, 'eval_f1': 0.8279569892473119, 'eval_accuracy': 0.9975723244992919, 'eval_runtime': 0.8452, 'eval_samples_per_second': 60.341, 'eval_steps_per_second': 8.282, 'epoch': 7.0}\n"
     ]
    },
    {
     "data": {
      "application/vnd.jupyter.widget-view+json": {
       "model_id": "7bb23ca37a0c4f9b981f1a7d3d5608d5",
       "version_major": 2,
       "version_minor": 0
      },
      "text/plain": [
       "  0%|          | 0/7 [00:00<?, ?it/s]"
      ]
     },
     "metadata": {},
     "output_type": "display_data"
    },
    {
     "name": "stdout",
     "output_type": "stream",
     "text": [
      "{'eval_loss': 0.0086021414026618, 'eval_precision': 0.8191489361702128, 'eval_recall': 0.8369565217391305, 'eval_f1': 0.8279569892473119, 'eval_accuracy': 0.9975723244992919, 'eval_runtime': 0.9032, 'eval_samples_per_second': 56.468, 'eval_steps_per_second': 7.751, 'epoch': 8.0}\n",
      "{'train_runtime': 142.7066, 'train_samples_per_second': 25.339, 'train_steps_per_second': 3.195, 'train_loss': 0.047166276396366585, 'epoch': 8.0}\n"
     ]
    },
    {
     "data": {
      "text/plain": [
       "TrainOutput(global_step=456, training_loss=0.047166276396366585, metrics={'train_runtime': 142.7066, 'train_samples_per_second': 25.339, 'train_steps_per_second': 3.195, 'total_flos': 656489350931040.0, 'train_loss': 0.047166276396366585, 'epoch': 8.0})"
      ]
     },
     "execution_count": 12,
     "metadata": {},
     "output_type": "execute_result"
    }
   ],
   "source": [
    "import numpy as np\n",
    "model = AutoModelForTokenClassification.from_pretrained(\n",
    "    \"ai-forever/ruBert-base\", num_labels=num_labels, id2label=id2label, label2id=label2id\n",
    ")\n",
    "\n",
    "training_args = TrainingArguments(\n",
    "    output_dir=\"token_class_model\",\n",
    "    learning_rate=5e-05,\n",
    "    per_device_train_batch_size=8,\n",
    "    per_device_eval_batch_size=8,\n",
    "    num_train_epochs=8,\n",
    "    weight_decay=0.1,\n",
    "    evaluation_strategy=\"epoch\",\n",
    "    push_to_hub=False,\n",
    "    save_strategy=\"no\",\n",
    "    group_by_length=True,\n",
    "    warmup_ratio=0.1,\n",
    "    optim=\"adamw_torch\",\n",
    "    lr_scheduler_type=\"cosine\",\n",
    "    report_to=\"none\",\n",
    "\n",
    ")\n",
    "\n",
    "trainer = Trainer(\n",
    "    model=model,\n",
    "    args=training_args,\n",
    "    train_dataset=tokenized_dataset[\"train\"],\n",
    "    eval_dataset=tokenized_dataset[\"test\"],\n",
    "    tokenizer=tokenizer,\n",
    "    data_collator=data_collator,\n",
    "    compute_metrics=compute_metrics,\n",
    ")\n",
    "\n",
    "trainer.train()\n"
   ]
  },
  {
   "cell_type": "code",
   "execution_count": 13,
   "metadata": {},
   "outputs": [
    {
     "data": {
      "application/vnd.jupyter.widget-view+json": {
       "model_id": "3e98f0a63960494993852178e34318d2",
       "version_major": 2,
       "version_minor": 0
      },
      "text/plain": [
       "  0%|          | 0/7 [00:00<?, ?it/s]"
      ]
     },
     "metadata": {},
     "output_type": "display_data"
    }
   ],
   "source": [
    "res = trainer.predict(tokenized_dataset[\"test\"])\n",
    "metrics = compute_metrics([res.predictions, res.label_ids])\n",
    "predictions = res.predictions\n",
    "labels = res.label_ids\n",
    "predictions = np.argmax(predictions, axis=2)\n",
    "\n",
    "true_predictions = [\n",
    "    [label_list[p] for (p, l) in zip(prediction, label) if l != -100]\n",
    "    for prediction, label in zip(predictions, labels)\n",
    "]\n",
    "true_labels = [\n",
    "    [label_list[l] for (p, l) in zip(prediction, label) if l != -100]\n",
    "    for prediction, label in zip(predictions, labels)\n",
    "]\n",
    "\n",
    "answers = pd.DataFrame(\n",
    "    {\n",
    "        \"text\": final_ds[\"test\"][\"processed_text\"],\n",
    "        \"y_true\": true_labels,\n",
    "        \"y_pred\": true_predictions,\n",
    "    }\n",
    ")\n",
    "\n",
    "answers[\"y_true\"] = answers[\"y_true\"].map(lambda x: \", \".join(i for i in x))\n",
    "answers[\"y_pred\"] = answers[\"y_pred\"].map(lambda x: \", \".join(i for i in x))"
   ]
  },
  {
   "cell_type": "code",
   "execution_count": 14,
   "metadata": {},
   "outputs": [
    {
     "name": "stdout",
     "output_type": "stream",
     "text": [
      "              precision    recall  f1-score   support\n",
      "\n",
      "           O       1.00      1.00      1.00     14700\n",
      "  B-discount       0.92      0.86      0.89        51\n",
      "     B-value       0.80      0.88      0.84        41\n",
      "     I-value       0.79      0.89      0.84        37\n",
      "\n",
      "    accuracy                           1.00     14829\n",
      "   macro avg       0.88      0.91      0.89     14829\n",
      "weighted avg       1.00      1.00      1.00     14829\n",
      "\n"
     ]
    }
   ],
   "source": [
    "from sklearn.metrics import classification_report\n",
    "\n",
    "print(\n",
    "    classification_report(\n",
    "        \", \".join(answers[\"y_true\"]).split(\", \"),\n",
    "        \", \".join(answers[\"y_pred\"]).split(\", \"),\n",
    "        labels=label_list,\n",
    "    )\n",
    ")"
   ]
  },
  {
   "cell_type": "code",
   "execution_count": 15,
   "metadata": {},
   "outputs": [
    {
     "data": {
      "image/png": "[encoded data removed]",
      "text/plain": [
       "<Figure size 640x480 with 2 Axes>"
      ]
     },
     "metadata": {},
     "output_type": "display_data"
    }
   ],
   "source": [
    "import seaborn as sns\n",
    "import matplotlib.pyplot as plt\n",
    "from sklearn.metrics import ConfusionMatrixDisplay, confusion_matrix\n",
    "cm =  confusion_matrix( \", \".join(answers[\"y_true\"]).split(\", \"),\n",
    "    \", \".join(answers[\"y_pred\"]).split(\", \"),\n",
    "    labels=label_list)\n",
    "cm_display = ConfusionMatrixDisplay(cm, display_labels=label_list)\n",
    "cm_display.plot(xticks_rotation=\"vertical\")\n",
    "plt.show()"
   ]
  },
  {
   "cell_type": "code",
   "execution_count": 16,
   "metadata": {},
   "outputs": [
    {
     "name": "stdout",
     "output_type": "stream",
     "text": [
      "0.8755725628190753\n"
     ]
    }
   ],
   "source": [
    "weights = {\"B-discount\": 1, \"B-value\": 2, \"I-value\": 2, \"O\": 0.003}\n",
    "\n",
    "from sklearn.metrics import precision_recall_fscore_support\n",
    "\n",
    "\n",
    "def weighted_f1(y_true, y_pred, weights):\n",
    "    \"\"\"Расчет взвешенной F1 меры с индивидуальными весами для классов.\"\"\"\n",
    "\n",
    "    # рассчитываем F1 для всех классов\n",
    "    _, _, f1, support = precision_recall_fscore_support(\n",
    "        y_true, y_pred, average=None, labels=list(weights.keys())\n",
    "    )\n",
    "\n",
    "    # вычисление взвешенной F-меры\n",
    "    weighted_f1 = np.sum(\n",
    "        f1 * [weights[label] for label in np.unique(y_true + y_pred)] * support\n",
    "    ) / np.sum(support * [weights[label] for label in np.unique(y_true + y_pred)])\n",
    "    return weighted_f1\n",
    "\n",
    "\n",
    "weighted_f1_score = weighted_f1(\n",
    "    \", \".join(answers[\"y_true\"]).split(\", \"),\n",
    "    \", \".join(answers[\"y_pred\"]).split(\", \"),\n",
    "    weights,\n",
    ")\n",
    "print(weighted_f1_score)"
   ]
  }
 ],
 "metadata": {
  "kernelspec": {
   "display_name": ".venv",
   "language": "python",
   "name": "python3"
  },
  "language_info": {
   "codemirror_mode": {
    "name": "ipython",
    "version": 3
   },
   "file_extension": ".py",
   "mimetype": "text/x-python",
   "name": "python",
   "nbconvert_exporter": "python",
   "pygments_lexer": "ipython3",
   "version": "3.11.8"
  }
 },
 "nbformat": 4,
 "nbformat_minor": 2
}
